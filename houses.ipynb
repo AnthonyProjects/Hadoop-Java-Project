{
 "cells": [
  {
   "cell_type": "code",
   "execution_count": 1,
   "metadata": {},
   "outputs": [
    {
     "name": "stdout",
     "output_type": "stream",
     "text": [
      "Initializing Spark...\n",
      "Spark found in :  /home/ubuntu/apps/spark\n",
      "Spark config:\n",
      "\t spark.app.name=TestApp\n",
      "\tspark.master=local[*]\n",
      "\texecutor.memory=2g\n",
      "\tspark.sql.warehouse.dir=/tmp/tmpby56jbet\n",
      "\tsome_property=some_value\n",
      "Spark UI running on port 4040\n"
     ]
    },
    {
     "data": {
      "text/html": [
       "\n",
       "            <div>\n",
       "                <p><b>SparkSession - in-memory</b></p>\n",
       "                \n",
       "        <div>\n",
       "            <p><b>SparkContext</b></p>\n",
       "\n",
       "            <p><a href=\"http://5704b86814f0:4040\">Spark UI</a></p>\n",
       "\n",
       "            <dl>\n",
       "              <dt>Version</dt>\n",
       "                <dd><code>v3.0.1</code></dd>\n",
       "              <dt>Master</dt>\n",
       "                <dd><code>local[*]</code></dd>\n",
       "              <dt>AppName</dt>\n",
       "                <dd><code>TestApp</code></dd>\n",
       "            </dl>\n",
       "        </div>\n",
       "        \n",
       "            </div>\n",
       "        "
      ],
      "text/plain": [
       "<pyspark.sql.session.SparkSession at 0x7ff954588a00>"
      ]
     },
     "execution_count": 1,
     "metadata": {},
     "output_type": "execute_result"
    }
   ],
   "source": [
    "# initialize Spark Session\n",
    "import os\n",
    "import sys\n",
    "top_dir = os.path.abspath(os.path.join(os.getcwd(), \"../\"))\n",
    "if top_dir not in sys.path:\n",
    "    sys.path.append(top_dir)\n",
    "\n",
    "from init_spark import init_spark\n",
    "spark = init_spark()\n",
    "spark"
   ]
  },
  {
   "cell_type": "code",
   "execution_count": 2,
   "metadata": {},
   "outputs": [],
   "source": [
    "house_csv= spark.read.csv(\"/data/house-prices/house-sales-full.csv\", header=True, inferSchema=True)\n",
    "house_sales_simplified = spark.read.csv(\"/data/house-prices/house-sales-simplified.csv\", header=True, inferSchema=True)\n",
    "house_sales_sample = spark.read.csv(\"/data/house-prices/house-sales-sample.csv\", header=True, inferSchema=True)"
   ]
  },
  {
   "cell_type": "code",
   "execution_count": 6,
   "metadata": {},
   "outputs": [],
   "source": [
    "house_csv.write.parquet(\"house-parquet\")"
   ]
  },
  {
   "cell_type": "code",
   "execution_count": 7,
   "metadata": {},
   "outputs": [],
   "source": [
    "house_parquet= spark.read.parquet(\"./house-parquet\")"
   ]
  },
  {
   "cell_type": "code",
   "execution_count": 8,
   "metadata": {},
   "outputs": [
    {
     "name": "stdout",
     "output_type": "stream",
     "text": [
      "+----------+--------+---------+----------+-------------+-------+-------+-----------+------------+--------------+-------+-------------+---------------+---------+--------+---------+-------+-----------+------------+-------+-------+-------+---------------+\n",
      "|DocumentID|    Date|SalePrice|PropertyID| PropertyType|     ym|zhvi_px|   zhvi_idx|AdjSalePrice|NbrLivingUnits|SqFtLot|SqFtTotLiving|SqFtFinBasement|Bathrooms|Bedrooms|BldgGrade|YrBuilt|YrRenovated|TrafficNoise|LandVal|ImpsVal|ZipCode|NewConstruction|\n",
      "+----------+--------+---------+----------+-------------+-------+-------+-----------+------------+--------------+-------+-------------+---------------+---------+--------+---------+-------+-----------+------------+-------+-------+-------+---------------+\n",
      "|         1| 9/16/14|   280000|   1000102|    Multiplex| 9/1/14| 405100|0.930836397|    300805.0|             2|   9373|         2400|              0|      3.0|       6|        7|   1991|          0|           0|  70000| 229000|  98002|          false|\n",
      "|         2| 6/16/06|  1000000|   1200013|Single Family| 6/1/06| 404400|0.929227941|   1076162.0|             1|  20156|         3764|           1452|     3.75|       4|       10|   2005|          0|           0| 203000| 590000|  98166|           true|\n",
      "|         3| 1/29/07|   745000|   1200019|Single Family| 1/1/07| 425600|0.977941176|    761805.0|             1|  26036|         2060|            900|     1.75|       4|        8|   1947|          0|           0| 183000| 275000|  98166|          false|\n",
      "|         4| 2/25/08|   425000|   2800016|Single Family| 2/1/08| 418400|0.961397059|    442065.0|             1|   8618|         3200|           1640|     3.75|       5|        7|   1966|          0|           0| 104000| 229000|  98168|          false|\n",
      "|         5| 3/29/13|   240000|   2800024|Single Family| 3/1/13| 351600|0.807904412|    297065.0|             1|   8620|         1720|              0|     1.75|       4|        7|   1948|          0|           0| 104000| 205000|  98168|          false|\n",
      "|         6| 3/30/09|   349900|   3600090|    Townhouse| 3/1/09| 369800|0.849724265|    411781.0|             1|   1012|          930|              0|      1.5|       2|        8|   2008|          0|           0| 170000| 207000|  98144|           true|\n",
      "|         7| 8/28/13|   327500|   3800004|Single Family| 8/1/13| 374300|0.860064338|    380785.0|             1|  34465|         1750|              0|      1.5|       3|        8|   1961|          0|           0| 165000| 227000|  98178|          false|\n",
      "|         8| 5/24/07|   347000|   3800009|Single Family| 5/1/07| 432100|0.992876838|    349489.0|             1|  14659|         1860|            620|     1.75|       4|        7|   1963|          0|           0| 115000| 154000|  98178|          false|\n",
      "|         9| 9/22/06|   220400|   6600055|Single Family| 9/1/06| 414800|   0.953125|    231239.0|             1|   5324|          990|              0|      1.0|       2|        6|   1930|          0|           3|  90000|  75000|  98032|          false|\n",
      "|        10| 8/22/06|   437500|   7200080|    Multiplex| 8/1/06| 411100|0.944623162|    463148.0|             2|  10585|         1980|              0|      2.0|       4|        6|   1924|          0|           0| 124000| 116000|  98055|          false|\n",
      "|        11|10/16/14|   150000|   7200179|Single Family|10/1/14| 407400|0.936121324|    160236.0|             1|  12750|          840|              0|      1.0|       2|        6|   1925|          0|           0| 133000|  73000|  98055|          false|\n",
      "|        12| 1/14/10|   300000|   7400054|Single Family| 1/1/10| 350800|0.806066176|    372178.0|             1|   5200|         1750|            600|      1.0|       3|        7|   1958|          0|           1| 100000| 172000|  98118|          false|\n",
      "|        13| 6/26/08|   292000|   7400062|Single Family| 6/1/08| 403200|0.926470588|    315175.0|             1|   5240|          790|              0|      1.0|       2|        6|   1925|          0|           1| 100000| 152000|  98118|          false|\n",
      "|        14| 5/21/14|   299800|   7400062|Single Family| 5/1/14| 398100|0.914751838|    327739.0|             1|   5240|          790|              0|      1.0|       2|        6|   1925|          0|           1| 100000| 152000|  98118|          false|\n",
      "|        15| 6/13/13|   370000|   7600065|    Townhouse| 6/1/13| 366100|0.841222426|    439836.0|             1|   1245|         1530|            480|     2.25|       3|        9|   2014|          0|           2|  91000| 439000|     -1|          false|\n",
      "|        16| 9/25/06|   605000|   7600093|Single Family| 9/1/06| 414800|   0.953125|    634754.0|             1|   7320|         2120|              0|     2.75|       3|        8|   1901|          0|           0| 261000| 422000|  98122|          false|\n",
      "|        17|  5/4/07|   475000|   7600136|    Townhouse| 5/1/07| 432100|0.992876838|    478408.0|             1|   1148|         1130|            330|      2.0|       2|        9|   2007|          0|           0|  91000| 383000|     -1|           true|\n",
      "|        18| 2/24/07|   425000|   7600203|Single Family| 2/1/07| 427800|0.982996324|    432352.0|             1|   3485|         2620|           1060|      1.5|       4|        7|   1920|          0|           0| 235000| 373000|  98122|          false|\n",
      "|        19| 3/26/08|   357500|   7600218|    Townhouse| 3/1/08| 415100|0.953814338|    374811.0|             1|    924|         1250|            210|      1.5|       2|        8|   2007|          0|           0|  91000| 352000|     -1|           true|\n",
      "|        20| 3/14/06|   455000|   9000210|Single Family| 3/1/06| 392100|0.900965074|    505014.0|             1|   5253|         1500|            750|     1.75|       3|        6|   1919|          0|           0| 333000| 117000|  98115|          false|\n",
      "+----------+--------+---------+----------+-------------+-------+-------+-----------+------------+--------------+-------+-------------+---------------+---------+--------+---------+-------+-----------+------------+-------+-------+-------+---------------+\n",
      "only showing top 20 rows\n",
      "\n"
     ]
    }
   ],
   "source": [
    "house_parquet.show()"
   ]
  },
  {
   "cell_type": "code",
   "execution_count": 9,
   "metadata": {},
   "outputs": [
    {
     "name": "stdout",
     "output_type": "stream",
     "text": [
      "+---------+-----+\n",
      "|SalePrice|count|\n",
      "+---------+-----+\n",
      "|   350000|  229|\n",
      "|   400000|  192|\n",
      "|   450000|  175|\n",
      "|   425000|  169|\n",
      "|   300000|  162|\n",
      "|   375000|  162|\n",
      "|   500000|  153|\n",
      "|   320000|  151|\n",
      "|   330000|  151|\n",
      "|   390000|  151|\n",
      "|   385000|  149|\n",
      "|   380000|  147|\n",
      "|   410000|  145|\n",
      "|   525000|  145|\n",
      "|   360000|  143|\n",
      "|   310000|  142|\n",
      "|   325000|  136|\n",
      "|   340000|  135|\n",
      "|   430000|  134|\n",
      "|   435000|  133|\n",
      "+---------+-----+\n",
      "only showing top 20 rows\n",
      "\n"
     ]
    }
   ],
   "source": [
    "house_parquet.groupBy(\"SalePrice\").count().orderBy(\"count\", ascending=False).show()"
   ]
  },
  {
   "cell_type": "code",
   "execution_count": 10,
   "metadata": {},
   "outputs": [
    {
     "name": "stdout",
     "output_type": "stream",
     "text": [
      "+-------------+---------+-----+\n",
      "| PropertyType|SalePrice|count|\n",
      "+-------------+---------+-----+\n",
      "|Single Family|   350000|  193|\n",
      "|Single Family|   400000|  163|\n",
      "|Single Family|   450000|  148|\n",
      "|Single Family|   425000|  145|\n",
      "|Single Family|   300000|  142|\n",
      "|Single Family|   375000|  136|\n",
      "|Single Family|   500000|  133|\n",
      "|Single Family|   525000|  133|\n",
      "|Single Family|   310000|  126|\n",
      "|Single Family|   330000|  125|\n",
      "|Single Family|   390000|  125|\n",
      "|Single Family|   380000|  124|\n",
      "|Single Family|   320000|  124|\n",
      "|Single Family|   410000|  119|\n",
      "|Single Family|   550000|  117|\n",
      "|Single Family|   360000|  116|\n",
      "|Single Family|   420000|  114|\n",
      "|Single Family|   430000|  113|\n",
      "|Single Family|   340000|  112|\n",
      "|Single Family|   385000|  112|\n",
      "+-------------+---------+-----+\n",
      "only showing top 20 rows\n",
      "\n"
     ]
    }
   ],
   "source": [
    "house_parquet.groupBy(\"PropertyType\", \"SalePrice\").count().orderBy(\"count\", ascending=False).show()"
   ]
  },
  {
   "cell_type": "code",
   "execution_count": 11,
   "metadata": {},
   "outputs": [
    {
     "data": {
      "text/plain": [
       "DataFrame[DocumentID: int, Date: string, SalePrice: int, PropertyID: bigint, PropertyType: string, ym: string, zhvi_px: int, zhvi_idx: double, AdjSalePrice: double, NbrLivingUnits: int, SqFtLot: int, SqFtTotLiving: int, SqFtFinBasement: int, Bathrooms: double, Bedrooms: int, BldgGrade: int, YrBuilt: int, YrRenovated: int, TrafficNoise: int, LandVal: int, ImpsVal: int, ZipCode: int, NewConstruction: boolean, ID: int, Date: string, SalePrice: int, PropertyID: bigint, PropertyType: string, Bedrooms: int, Bathrooms: double, SqFtTotLiving: int, SqFtLot: int, YrBuilt: int, ZipCode: int, ID: int, Date: string, SalePrice: int, PropertyID: bigint, PropertyType: string, Bedrooms: int, Bathrooms: double, SqFtTotLiving: int, SqFtLot: int, YrBuilt: int, ZipCode: int]"
      ]
     },
     "execution_count": 11,
     "metadata": {},
     "output_type": "execute_result"
    }
   ],
   "source": [
    "house_parquet.join(house_sales_simplified).join(house_sales_sample)"
   ]
  },
  {
   "cell_type": "code",
   "execution_count": 34,
   "metadata": {},
   "outputs": [
    {
     "data": {
      "text/plain": [
       "<AxesSubplot:>"
      ]
     },
     "execution_count": 34,
     "metadata": {},
     "output_type": "execute_result"
    },
    {
     "data": {
      "image/png": "[encoded data removed]",
      "text/plain": [
       "<Figure size 1440x720 with 1 Axes>"
      ]
     },
     "metadata": {
      "needs_background": "light"
     },
     "output_type": "display_data"
    }
   ],
   "source": [
    "house_parquet.groupBy('SalePrice', 'Date').count().orderBy(\"count\", ascending=False).limit(50).toPandas().plot.bar(figsize=(20,10))"
   ]
  },
  {
   "cell_type": "code",
   "execution_count": 96,
   "metadata": {},
   "outputs": [
    {
     "name": "stdout",
     "output_type": "stream",
     "text": [
      "+-----------------+\n",
      "|Total Square Feet|\n",
      "+-----------------+\n",
      "|            11773|\n",
      "|            25372|\n",
      "|            28996|\n",
      "|            13458|\n",
      "|            10340|\n",
      "|             1942|\n",
      "|            36215|\n",
      "|            17139|\n",
      "|             6314|\n",
      "|            12565|\n",
      "|            13590|\n",
      "|             7550|\n",
      "|             6030|\n",
      "|             6030|\n",
      "|             3255|\n",
      "|             9440|\n",
      "|             2608|\n",
      "|             7165|\n",
      "|             2384|\n",
      "|             7503|\n",
      "+-----------------+\n",
      "only showing top 20 rows\n",
      "\n",
      "+--------+-------------+---------+--------------+\n",
      "|    Date| PropertyType|Bathrooms|sum(SalePrice)|\n",
      "+--------+-------------+---------+--------------+\n",
      "|  6/8/06|Single Family|      2.5|       5308092|\n",
      "| 8/23/12|Single Family|      2.5|        947000|\n",
      "| 4/19/12|Single Family|      2.5|       1160500|\n",
      "| 6/29/07|Single Family|      2.5|       2733000|\n",
      "|  7/1/11|Single Family|      2.5|        635900|\n",
      "| 11/7/06|Single Family|     1.75|       2219700|\n",
      "|  5/8/09|Single Family|     1.75|       1027000|\n",
      "| 9/23/13|    Townhouse|     1.75|       1401786|\n",
      "| 2/28/07|    Townhouse|      2.5|       1660000|\n",
      "| 4/13/12|Single Family|     2.25|        430000|\n",
      "|  2/7/11|Single Family|      2.5|        910100|\n",
      "| 6/10/10|    Townhouse|      2.0|        828000|\n",
      "|11/10/06|Single Family|     2.75|       1040312|\n",
      "| 9/28/09|    Townhouse|     2.25|        290000|\n",
      "| 2/15/08|Single Family|      2.0|       1056000|\n",
      "|  5/5/10|Single Family|      2.0|        417500|\n",
      "|  6/1/11|    Townhouse|      2.5|        441711|\n",
      "|  7/3/07|    Townhouse|      2.5|        526000|\n",
      "| 4/11/11|Single Family|     2.75|        952000|\n",
      "| 8/18/14|Single Family|     2.25|        530000|\n",
      "+--------+-------------+---------+--------------+\n",
      "only showing top 20 rows\n",
      "\n"
     ]
    },
    {
     "data": {
      "image/png": "[encoded data removed]",
      "text/plain": [
       "<Figure size 1440x720 with 1 Axes>"
      ]
     },
     "metadata": {
      "needs_background": "light"
     },
     "output_type": "display_data"
    }
   ],
   "source": [
    "from pyspark.sql.functions import col\n",
    "\n",
    "total_square_feet = house_parquet.select(((col(\"SqFtLot\") + col(\"SqFtTotLiving\") + col(\"SqFtFinBasement\"))).alias(\"Total Square Feet\"))\n",
    "total_square_feet.show()\n",
    "\n",
    "# calculate total square feet of houses and then average\n",
    "total_sq_ft = house_parquet.withColumn(\"Total Square Feet\", col(\"SqFtTotLiving\") + col(\"SqFtFinBasement\")).select(['Date', 'PropertyType', 'Bathrooms', 'SqFtTotLiving', 'SqFtFinBasement', \"Total Square Feet\"])\n",
    "total_sq_ft.groupBy(\"Total Square Feet\").avg().limit(20).toPandas().plot.bar(figsize=(20,10))\n",
    "\n",
    "# group by the following\n",
    "house_parquet.groupBy(\"Date\", \"PropertyType\", \"Bathrooms\").sum(\"SalePrice\").show()"
   ]
  },
  {
   "cell_type": "code",
   "execution_count": null,
   "metadata": {},
   "outputs": [],
   "source": []
  },
  {
   "cell_type": "code",
   "execution_count": null,
   "metadata": {},
   "outputs": [],
   "source": []
  }
 ],
 "metadata": {
  "kernelspec": {
   "display_name": "Python 3",
   "language": "python",
   "name": "python3"
  },
  "language_info": {
   "codemirror_mode": {
    "name": "ipython",
    "version": 3
   },
   "file_extension": ".py",
   "mimetype": "text/x-python",
   "name": "python",
   "nbconvert_exporter": "python",
   "pygments_lexer": "ipython3",
   "version": "3.8.2"
  }
 },
 "nbformat": 4,
 "nbformat_minor": 4
}
